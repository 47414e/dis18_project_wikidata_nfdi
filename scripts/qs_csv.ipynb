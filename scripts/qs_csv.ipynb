{
 "cells": [
  {
   "cell_type": "code",
   "id": "initial_id",
   "metadata": {
    "collapsed": true,
    "ExecuteTime": {
     "end_time": "2025-05-18T15:38:36.949933Z",
     "start_time": "2025-05-18T15:38:36.946817Z"
    }
   },
   "source": [
    "import pandas as pd\n",
    "import requests, csv, time, os\n",
    "from typing import Optional, Dict\n",
    "from functools import lru_cache  # CACHE"
   ],
   "outputs": [],
   "execution_count": 77
  },
  {
   "cell_type": "code",
   "id": "f178341221e27b8",
   "metadata": {
    "ExecuteTime": {
     "end_time": "2025-05-18T15:38:36.959376Z",
     "start_time": "2025-05-18T15:38:36.956536Z"
    }
   },
   "source": [
    "API_ENDPOINT = \"https://www.wikidata.org/w/api.php\"  # API\n",
    "HEADERS = {\n",
    "    \"User-Agent\": \"NFDI4Microbiota-QS-Generator/2.0 (info@example.com)\",\n",
    "}\n",
    "\n",
    "MAX_RETRIES = 3    # API\n",
    "BACKOFF_SECS = 3   # API – MediaWiki ist großzügiger, kleineres Back‑off"
   ],
   "outputs": [],
   "execution_count": 78
  },
  {
   "metadata": {
    "ExecuteTime": {
     "end_time": "2025-05-18T15:38:36.971746Z",
     "start_time": "2025-05-18T15:38:36.968385Z"
    }
   },
   "cell_type": "code",
   "source": [
    "def _api_get(params: Dict) -> Dict:  # API\n",
    "    for attempt in range(1, MAX_RETRIES + 1):\n",
    "        try:\n",
    "            r = requests.get(API_ENDPOINT, params=params, headers=HEADERS, timeout=25)\n",
    "            r.raise_for_status()\n",
    "            return r.json()\n",
    "        except (requests.exceptions.ReadTimeout, requests.exceptions.ConnectionError):\n",
    "            wait = BACKOFF_SECS * attempt\n",
    "            print(f\"[warn] API timeout – Versuch {attempt}/{MAX_RETRIES}, warte {wait}s …\")\n",
    "            time.sleep(wait)\n",
    "        except requests.exceptions.HTTPError as e:\n",
    "            print(f\"[error] API HTTP {e.response.status_code}: {e.response.reason}\")\n",
    "            break\n",
    "    return {}"
   ],
   "id": "221a4f315677e669",
   "outputs": [],
   "execution_count": 79
  },
  {
   "cell_type": "code",
   "id": "34c9006e2775dfe7",
   "metadata": {
    "ExecuteTime": {
     "end_time": "2025-05-18T15:38:36.983431Z",
     "start_time": "2025-05-18T15:38:36.981053Z"
    }
   },
   "source": [
    "@lru_cache(maxsize=None)  # API/cache\n",
    "def find_qid_by_orcid(orcid: str) -> Optional[str]:\n",
    "    \"\"\"Find Q‑ID via ORCID using Cirrus 'haswbstatement' search.\"\"\"\n",
    "    if not orcid:\n",
    "        return None\n",
    "    query = f'haswbstatement:P496=\"{orcid}\"'\n",
    "    data = _api_get({\n",
    "        \"action\": \"query\", \"list\": \"search\", \"srsearch\": query,\n",
    "        \"srlimit\": 1, \"format\": \"json\"})\n",
    "    try:\n",
    "        return data[\"query\"][\"search\"][0][\"title\"]\n",
    "    except (KeyError, IndexError):\n",
    "        return None"
   ],
   "outputs": [],
   "execution_count": 80
  },
  {
   "cell_type": "code",
   "id": "9e2a743109968da3",
   "metadata": {
    "ExecuteTime": {
     "end_time": "2025-05-18T15:38:36.987760Z",
     "start_time": "2025-05-18T15:38:36.985651Z"
    }
   },
   "source": [
    "@lru_cache(maxsize=None)  # API/cache\n",
    "def find_qid_by_name(name: str, lang: str = \"en\") -> Optional[str]:\n",
    "    if not name:\n",
    "        return None\n",
    "    data = _api_get({\n",
    "        \"action\": \"wbsearchentities\", \"search\": name, \"language\": lang,\n",
    "        \"type\": \"item\", \"limit\": 1, \"format\": \"json\"})\n",
    "    try:\n",
    "        return data[\"search\"][0][\"id\"]\n",
    "    except (KeyError, IndexError):\n",
    "        return None"
   ],
   "outputs": [],
   "execution_count": 81
  },
  {
   "metadata": {
    "ExecuteTime": {
     "end_time": "2025-05-18T15:38:36.994692Z",
     "start_time": "2025-05-18T15:38:36.992128Z"
    }
   },
   "cell_type": "code",
   "source": [
    "inst_cache: Dict[str, Optional[str]] = {}\n",
    "\n",
    "def find_qid_by_institution_label(label: str) -> Optional[str]:  # API\n",
    "    if not label:\n",
    "        return None\n",
    "    if label in inst_cache:\n",
    "        return inst_cache[label]\n",
    "\n",
    "    for lang in (\"en\", \"de\"):\n",
    "        data = _api_get({\n",
    "            \"action\": \"wbsearchentities\", \"search\": label, \"language\": lang,\n",
    "            \"type\": \"item\", \"limit\": 1, \"format\": \"json\"})\n",
    "        if data.get(\"search\"):\n",
    "            qid = data[\"search\"][0][\"id\"]\n",
    "            inst_cache[label] = qid\n",
    "            if lang == \"de\":\n",
    "                print(f\"[info] Institution '{label}' über deutsches Label gefunden → {qid}\")\n",
    "            return qid\n",
    "\n",
    "    inst_cache[label] = None\n",
    "    return None"
   ],
   "id": "67cc8bbba6a9e068",
   "outputs": [],
   "execution_count": 82
  },
  {
   "cell_type": "code",
   "id": "241bf54510cb35a8",
   "metadata": {
    "ExecuteTime": {
     "end_time": "2025-05-18T15:38:37.002820Z",
     "start_time": "2025-05-18T15:38:36.998634Z"
    }
   },
   "source": [
    "def file_to_qs(infile: str, outfile: str) -> None:\n",
    "    ext = os.path.splitext(infile)[1].lower()\n",
    "    df = pd.read_excel(infile) if ext in {\".xlsx\", \".xls\"} else pd.read_csv(infile)\n",
    "\n",
    "    required = {\"Name\", \"Institution\", \"ORCID\", \"ORCID-Link\"}\n",
    "    missing = required - set(df.columns)\n",
    "    if missing:\n",
    "        raise ValueError(f\"Fehlende Spalten: {', '.join(sorted(missing))}\")\n",
    "\n",
    "    rows = []\n",
    "    processed = set()\n",
    "\n",
    "    for _, r in df.iterrows():\n",
    "        name = str(r[\"Name\"]).strip()\n",
    "        orcid = str(r[\"ORCID\"]).strip() if pd.notna(r[\"ORCID\"]) else \"\"\n",
    "        key = (name.lower(), orcid)\n",
    "        if key in processed:\n",
    "            continue\n",
    "        processed.add(key)\n",
    "\n",
    "        inst_label = str(r[\"Institution\"]).strip()\n",
    "        url = r[\"ORCID-Link\"] if pd.notna(r[\"ORCID-Link\"]) else \"\"\n",
    "\n",
    "        qid = find_qid_by_orcid(orcid) or find_qid_by_name(name)\n",
    "        if qid:\n",
    "            print(f\"[skip] {name} existiert bereits als {qid}\")\n",
    "            continue\n",
    "\n",
    "        inst_qid = find_qid_by_institution_label(inst_label)\n",
    "        if not inst_qid:\n",
    "            print(f\"[warn] Institution '{inst_label}' nicht gefunden ⇒ übersprungen\")\n",
    "            continue\n",
    "\n",
    "        rows.append({\n",
    "            \"qid\": \"\",\n",
    "            \"Len\": name,\n",
    "            \"P31\": \"Q5\",\n",
    "            \"P496\": orcid,\n",
    "            \"S854\": url,\n",
    "            \"P108\": inst_qid,\n",
    "        })\n",
    "        time.sleep(0.1)  # kleine Pause, um API freundlich zu bleiben\n",
    "\n",
    "    if not rows:\n",
    "        print(\"Keine neuen Items – nichts exportiert.\")\n",
    "        return\n",
    "\n",
    "    field_order = [\"qid\", \"Len\", \"P31\", \"P496\", \"S854\", \"P108\"]\n",
    "    with open(outfile, \"w\", newline=\"\", encoding=\"utf-8\") as f:\n",
    "        writer = csv.DictWriter(f, fieldnames=field_order)\n",
    "        writer.writeheader()\n",
    "        writer.writerows(rows)\n",
    "    print(f\"✓ {len(rows)} QuickStatements-Zeilen → {outfile}\")"
   ],
   "outputs": [],
   "execution_count": 83
  },
  {
   "cell_type": "code",
   "id": "caaab3d91226c44a",
   "metadata": {
    "ExecuteTime": {
     "end_time": "2025-05-18T15:39:14.192627Z",
     "start_time": "2025-05-18T15:38:37.008680Z"
    }
   },
   "source": [
    "csv_input_path = \"import/input_with_orcid.csv\"\n",
    "csv_output_path = \"import/quickstatements.csv\"\n",
    "\n",
    "file_to_qs(csv_input_path, csv_output_path)"
   ],
   "outputs": [
    {
     "name": "stdout",
     "output_type": "stream",
     "text": [
      "[skip] Alexander Sczyrba existiert bereits als Q30420936\n",
      "[skip] Jens Stoye existiert bereits als Q89498719\n",
      "[skip] Michael Beckstette existiert bereits als Q114411617\n",
      "[skip] Liren Huang existiert bereits als Q114780829\n",
      "[skip] Sebastian Jünemann existiert bereits als Q56948964\n",
      "[skip] Kassian Kobert existiert bereits als Q133094637\n",
      "[skip] Anandhi Iyappan existiert bereits als Q59196905\n",
      "[skip] Peer Bork existiert bereits als Q7160367\n",
      "[skip] Sarah Schulz existiert bereits als Q65162179\n",
      "[skip] Daniel Podlesny existiert bereits als Q133331882\n",
      "[skip] Manja Marz existiert bereits als Q87730329\n",
      "[skip] Winfried Göttsch existiert bereits als Q44200631\n",
      "[skip] Anderson Santos existiert bereits als Q39510481\n",
      "[skip] Ulisses Nunes da Rocha existiert bereits als Q47007256\n",
      "[skip] Martin Bole existiert bereits als Q102304978\n",
      "[skip] Adrian Fritz existiert bereits als Q133333363\n",
      "[skip] Alice McHardy existiert bereits als Q2646932\n",
      "[skip] Mattea Müller existiert bereits als Q56957915\n",
      "[skip] Fernando Meyer existiert bereits als Q84045251\n",
      "[skip] Gary Robertson existiert bereits als Q1482829\n",
      "[skip] Stephanie Aue existiert bereits als Q124637370\n",
      "[skip] Zhi-Luo Deng existiert bereits als Q133330529\n",
      "[skip] Alexander Goesmann existiert bereits als Q52422599\n",
      "[skip] Jochen Blom existiert bereits als Q88525311\n",
      "[skip] Stefan Janssen existiert bereits als Q57140228\n",
      "[skip] Frank Förster existiert bereits als Q42155371\n",
      "[skip] Karina Brinkrolf existiert bereits als Q114721947\n",
      "[skip] Anna Rehm existiert bereits als Q107174758\n",
      "[skip] Boyke Bunk existiert bereits als Q40442775\n",
      "[skip] Isabel Schober existiert bereits als Q90259120\n",
      "[skip] Jörg Overmann existiert bereits als Q76583148\n",
      "[skip] Lorenz Reimer existiert bereits als Q89708380\n",
      "[skip] Anke Becker existiert bereits als Q21253882\n",
      "[skip] Marcus Lechner existiert bereits als Q94461378\n",
      "[skip] Paul Klemm existiert bereits als Q89474635\n",
      "[skip] Katharina Grünwald existiert bereits als Q104686981\n",
      "[skip] Thomas Clavel existiert bereits als Q40442760\n",
      "[skip] Charlie Pauvert existiert bereits als Q103017355\n",
      "[skip] Catherine Gonzalez existiert bereits als Q57054455\n",
      "[skip] Thomas Hitch existiert bereits als Q3435482\n",
      "[skip] Barbara Götz existiert bereits als Q94745883\n",
      "[skip] Ziyad existiert bereits als Q84177389\n",
      "[skip] Justine Vandendorpe existiert bereits als Q62930742\n",
      "[skip] Konrad Förstner existiert bereits als Q18744528\n",
      "[skip] Muhammad Elhossary existiert bereits als Q30045548\n",
      "✓ 25 QuickStatements-Zeilen → import/quickstatements.csv\n"
     ]
    }
   ],
   "execution_count": 84
  },
  {
   "cell_type": "code",
   "execution_count": 109,
   "id": "12fc9f30877e986d",
   "metadata": {
    "ExecuteTime": {
     "end_time": "2025-04-27T22:21:37.590451Z",
     "start_time": "2025-04-27T22:21:04.310311Z"
    }
   },
   "outputs": [
    {
     "name": "stderr",
     "output_type": "stream",
     "text": [
      "INFO: 📥  Lade Staff‑Liste …\n",
      "INFO: ▶ [1/70] Alexander Sczyrba\n",
      "INFO: ▶ [2/70] Jens Stoye\n",
      "INFO: ▶ [3/70] Michael Beckstette\n",
      "INFO: ▶ [4/70] Nils Kleinbölting\n",
      "INFO: ▶ [5/70] Liren Huang\n",
      "INFO: ▶ [6/70] Sebastian Jünemann\n",
      "INFO: ▶ [7/70] Kassian Kobert\n",
      "INFO: ▶ [8/70] Anandhi Iyappan\n",
      "INFO: ▶ [9/70] Peer Bork\n",
      "INFO: ▶ [10/70] Sina Barysch\n",
      "INFO: ▶ [11/70] Sarah Schulz\n",
      "INFO: ▶ [12/70] Daniel Podlesny\n",
      "INFO: ▶ [13/70] Mahdi Robbani\n",
      "INFO: ▶ [14/70] Noriko Cassman\n",
      "INFO: ▶ [15/70] Shahram Saghaei\n",
      "INFO: ▶ [16/70] Sandra Triebel\n",
      "INFO: ▶ [17/70] Kilian Ossetek\n",
      "INFO: ▶ [18/70] Manja Marz\n",
      "INFO: ▶ [19/70] Winfried Göttsch\n",
      "INFO: ▶ [20/70] Anderson Santos\n",
      "INFO: ▶ [21/70] Jonas Kasmanas\n",
      "INFO: ▶ [22/70] Stefanía Magnúsdóttir\n",
      "INFO: ▶ [23/70] Majid Soheilie\n",
      "INFO: ▶ [24/70] Sanchita Kamath\n",
      "INFO: ▶ [25/70] Nathan Ernster\n",
      "INFO: ▶ [26/70] Ulisses Nunes da Rocha\n",
      "INFO: ▶ [27/70] Martin Bole\n",
      "INFO: ▶ [28/70] Adrian Fritz\n",
      "INFO: ▶ [29/70] Alice McHardy\n",
      "INFO: ▶ [30/70] Mattea Müller\n",
      "INFO: ▶ [31/70] Carmen Paulmann\n",
      "INFO: ▶ [32/70] Cordula Hege\n",
      "INFO: ▶ [33/70] Fernando Meyer\n",
      "INFO: ▶ [34/70] Gary Robertson\n",
      "INFO: ▶ [35/70] Hesham Almessady\n",
      "INFO: ▶ [36/70] Stephanie Aue\n",
      "INFO: ▶ [37/70] Zhi-Luo Deng\n",
      "INFO: ▶ [38/70] Alexander Goesmann\n",
      "INFO: ▶ [39/70] Jochen Blom\n",
      "INFO: ▶ [40/70] Marius Dieckmann\n",
      "INFO: ▶ [41/70] Stefan Janssen\n",
      "INFO: ▶ [42/70] Jannis Hochmuth\n",
      "INFO: ▶ [43/70] Frank Förster\n",
      "INFO: ▶ [44/70] Karina Brinkrolf\n",
      "INFO: ▶ [45/70] Anna Rehm\n",
      "INFO: ▶ [46/70] Lukas Brehm\n",
      "INFO: ▶ [47/70] Artur Lissin\n",
      "INFO: ▶ [48/70] Boyke Bunk\n",
      "INFO: ▶ [49/70] Isabel Schober\n",
      "INFO: ▶ [50/70] Jörg Overmann\n",
      "INFO: ▶ [51/70] Lorenz Reimer\n",
      "INFO: ▶ [52/70] Anke Becker\n",
      "INFO: ▶ [53/70] Clemens Thölken\n",
      "INFO: ▶ [54/70] Michael Vockenhuber\n",
      "INFO: ▶ [55/70] Marcus Lechner\n",
      "INFO: ▶ [56/70] Paul Klemm\n",
      "INFO: ▶ [57/70] Katharina Grünwald\n",
      "INFO: ▶ [58/70] Nicole Treichel\n",
      "INFO: ▶ [59/70] Thomas Clavel\n",
      "INFO: ▶ [60/70] Maja Magel\n",
      "INFO: ▶ [61/70] Charlie Pauvert\n",
      "INFO: ▶ [62/70] Catherine Gonzalez\n",
      "INFO: ▶ [63/70] Thomas Hitch\n",
      "INFO: ▶ [64/70] Barbara Götz\n",
      "INFO: ▶ [65/70] Ziyad\n",
      "INFO: ▶ [66/70] Justine Vandendorpe\n",
      "INFO: ▶ [67/70] Konrad Förstner\n",
      "INFO: ▶ [68/70] Katharina Markus\n",
      "INFO: ▶ [69/70] Muhammad Elhossary\n",
      "INFO: ▶ [70/70] Natalie Kurtys\n",
      "INFO: 💾  Schreibe /Users/user-y/Desktop/DIS18/step1_orcid_results.csv\n",
      "INFO: ✅  Fertig – 70 Zeilen\n"
     ]
    }
   ],
   "source": [
    "if __name__ == \"__main__\":\n",
    "    logging.basicConfig(level=logging.INFO, format=\"%(levelname)s: %(message)s\")\n",
    "    parser = argparse.ArgumentParser()\n",
    "    parser.add_argument(\"--limit\", type=int, help=\"Nur N Zeilen verarbeiten\")\n",
    "    args, _ = parser.parse_known_args(sys.argv[1:])\n",
    "    run(args.limit)"
   ]
  },
  {
   "cell_type": "code",
   "execution_count": 96,
   "id": "c8891d35a45136c4",
   "metadata": {
    "ExecuteTime": {
     "end_time": "2025-04-27T22:11:02.816735Z",
     "start_time": "2025-04-27T22:11:02.356452Z"
    }
   },
   "outputs": [
    {
     "name": "stdout",
     "output_type": "stream",
     "text": [
      "🚀 Query: https://pub.orcid.org/v3.0/expanded-search/?q=given-names:\"Konrad\"+AND+family-name:\"Förstner\"&rows=5\n",
      "  ↳ raw keys: ['expanded-result', 'num-found']\n",
      "  ↳ result count: 1\n",
      "ORCID1: 0000-0002-1481-2996\n"
     ]
    }
   ],
   "source": [
    "#orcid1 = orcid_search(\"Konrad\", \"Förstner\", debug=True)\n",
    "#print(\"ORCID1:\", orcid1)\n"
   ]
  },
  {
   "cell_type": "code",
   "execution_count": null,
   "id": "8c436e8c61c3926b",
   "metadata": {},
   "outputs": [],
   "source": []
  },
  {
   "cell_type": "markdown",
   "id": "531dfe4f",
   "metadata": {},
   "source": [
    "## Neuer Abschnitt: QuickStatements‑Export  \n",
    "*Hinzugefügt am 2025‑05‑18 – markierte Zeilen mit `# NEW` zeigen Änderungen.*  \n",
    "\n",
    "Dieser Abschnitt liest unsere **`NFDI4Microbiota_staff_input.xlsx`**, prüft jede Person auf bereits vorhandene ORCID‑ bzw. Namenseinträge in Wikidata und erzeugt **`quickstatements.csv`** mit den Spalten `qid, Len, P31, P496, S854, P108` für alle **neuen** Items."
   ]
  },
  {
   "cell_type": "code",
   "execution_count": null,
   "id": "a5784e83",
   "metadata": {},
   "outputs": [],
   "source": [
    "# NEW: Hilfsfunktionen & QS‑Generator\n",
    "import pandas as pd\n",
    "import requests, csv, time\n",
    "from typing import Optional\n",
    "\n",
    "WD_SPARQL_ENDPOINT = \"https://query.wikidata.org/sparql\"\n",
    "HEADERS = {\n",
    "    \"User-Agent\": \"NFDI4Microbiota-QS-Generator/1.0 (info@example.com)\",\n",
    "}\n",
    "\n",
    "def find_qid_by_orcid(orcid: str) -> Optional[str]:\n",
    "    \"\"\"# NEW: Suche Q-ID anhand der ORCID (P496).\"\"\"\n",
    "    if not isinstance(orcid, str) or not orcid.strip():\n",
    "        return None\n",
    "    orcid = orcid.strip()\n",
    "    query = f\"\"\"\n",
    "    SELECT ?person WHERE {{\n",
    "      ?person wdt:P496 \\\"{orcid}\\\" .\n",
    "    }} LIMIT 1\n",
    "    \"\"\"\n",
    "    r = requests.get(\n",
    "        WD_SPARQL_ENDPOINT,\n",
    "        params={\"query\": query, \"format\": \"json\"},\n",
    "        headers=HEADERS,\n",
    "        timeout=30,\n",
    "    )\n",
    "    r.raise_for_status()\n",
    "    bindings = r.json()[\"results\"][\"bindings\"]\n",
    "    return bindings[0][\"person\"][\"value\"].split(\"/\")[-1] if bindings else None\n",
    "\n",
    "def find_qid_by_name(name: str) -> Optional[str]:\n",
    "    \"\"\"# NEW: Suche Q-ID via exaktem Namens‑Label (engl.).\"\"\"\n",
    "    if not isinstance(name, str) or not name.strip():\n",
    "        return None\n",
    "    name = name.strip().replace('\"', '\\\\\\\"')\n",
    "    query = f\"\"\"\n",
    "    SELECT ?person WHERE {{\n",
    "      ?person rdfs:label \\\"{name}\\\"@en .\n",
    "    }} LIMIT 1\n",
    "    \"\"\"\n",
    "    r = requests.get(\n",
    "        WD_SPARQL_ENDPOINT,\n",
    "        params={\"query\": query, \"format\": \"json\"},\n",
    "        headers=HEADERS,\n",
    "        timeout=30,\n",
    "    )\n",
    "    r.raise_for_status()\n",
    "    bindings = r.json()[\"results\"][\"bindings\"]\n",
    "    return bindings[0][\"person\"][\"value\"].split(\"/\")[-1] if bindings else None\n",
    "\n",
    "def xlsx_to_qs(infile: str, outfile: str) -> None:\n",
    "    \"\"\"# NEW: Hauptfunktion – XLSX → QuickStatements‑CSV.\"\"\"\n",
    "    df = pd.read_excel(infile)\n",
    "    required = {\"Name\", \"Institution\", \"ORCID\", \"ORCID-Link\"}\n",
    "    missing = required - set(df.columns)\n",
    "    if missing:\n",
    "        raise ValueError(f\"Fehlende Spalten: {', '.join(sorted(missing))}\")\n",
    "\n",
    "    rows = []\n",
    "    for _, row in df.iterrows():\n",
    "        name = row[\"Name\"]\n",
    "        orcid = row[\"ORCID\"]\n",
    "        institution = row[\"Institution\"]\n",
    "        url = row[\"ORCID-Link\"]\n",
    "\n",
    "        # Person schon vorhanden?\n",
    "        qid = find_qid_by_orcid(orcid) or find_qid_by_name(name)\n",
    "        if qid:\n",
    "            print(f\"[skip] {name} existiert bereits als {qid}\")\n",
    "            continue\n",
    "\n",
    "        rows.append({\n",
    "            \"qid\": \"\",          # leere Zelle = CREATE\n",
    "            \"Len\": name,        # englisches Label\n",
    "            \"P31\": \"Q5\",        # instance of: human\n",
    "            \"P496\": orcid or \"\",\n",
    "            \"S854\": url or \"\",\n",
    "            \"P108\": institution or \"\",\n",
    "        })\n",
    "        time.sleep(0.1)  # WDQS-Rate respektieren\n",
    "\n",
    "    if not rows:\n",
    "        print(\"Keine neuen Items – alles bereits in Wikidata.\")\n",
    "        return\n",
    "\n",
    "    field_order = [\"qid\", \"Len\", \"P31\", \"P496\", \"S854\", \"P108\"]\n",
    "    with open(outfile, \"w\", newline=\"\", encoding=\"utf-8\") as f:\n",
    "        writer = csv.DictWriter(f, fieldnames=field_order)\n",
    "        writer.writeheader()\n",
    "        writer.writerows(rows)\n",
    "    print(f\"✓ {len(rows)} Zeilen nach {outfile} geschrieben\")\n"
   ]
  },
  {
   "cell_type": "code",
   "execution_count": null,
   "id": "af95fabd",
   "metadata": {},
   "outputs": [],
   "source": [
    "# NEW: Konvertierung ausführen & Vorschau anzeigen\n",
    "xlsx_path = \"NFDI4Microbiota_staff_input.xlsx\"\n",
    "csv_path = \"quickstatements.csv\"\n",
    "\n",
    "xlsx_to_qs(xlsx_path, csv_path)\n",
    "\n",
    "# Vorschau (erste 5 Zeilen) laden\n",
    "import pandas as pd, os\n",
    "if os.path.exists(csv_path):\n",
    "    display(pd.read_csv(csv_path).head())\n"
   ]
  }
 ],
 "metadata": {
  "kernelspec": {
   "name": "python3",
   "language": "python",
   "display_name": "Python 3 (ipykernel)"
  }
 },
 "nbformat": 4,
 "nbformat_minor": 5
}
