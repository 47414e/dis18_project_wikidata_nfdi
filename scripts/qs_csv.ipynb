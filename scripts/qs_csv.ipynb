{
 "cells": [
  {
   "cell_type": "code",
   "execution_count": 16,
   "id": "initial_id",
   "metadata": {
    "ExecuteTime": {
     "end_time": "2025-06-07T15:28:41.481162Z",
     "start_time": "2025-06-07T15:28:41.477911Z"
    },
    "collapsed": true
   },
   "outputs": [],
   "source": [
    "import csv, time, os\n",
    "import pandas as pd\n",
    "from typing import Optional, Dict\n",
    "from functools import lru_cache  # CACHE"
   ]
  },
  {
   "cell_type": "code",
   "execution_count": 17,
   "id": "34c9006e2775dfe7",
   "metadata": {
    "ExecuteTime": {
     "end_time": "2025-06-07T15:28:47.975697Z",
     "start_time": "2025-06-07T15:28:47.972691Z"
    }
   },
   "outputs": [],
   "source": [
    "from find_qid import find_qid_by_orcid\n",
    "from find_qid import _api_get"
   ]
  },
  {
   "cell_type": "code",
   "execution_count": 18,
   "id": "9e2a743109968da3",
   "metadata": {
    "ExecuteTime": {
     "end_time": "2025-06-07T15:28:48.668861Z",
     "start_time": "2025-06-07T15:28:48.665441Z"
    }
   },
   "outputs": [],
   "source": [
    "\"\"\"\n",
    "Searches for the Wikidata QID of a given label (name), optionally language-specific.\n",
    "\"\"\"\n",
    "\n",
    "@lru_cache(maxsize=None)  # API/cache\n",
    "def find_qid_by_name(name: str, lang: str = \"en\") -> Optional[str]:\n",
    "    # Abort directly if input is empty\n",
    "    if not name:\n",
    "        return None\n",
    "\n",
    "    # Send API request to wbsearchentities endpoint (Wikidata search)\n",
    "    data = _api_get(\n",
    "        {\n",
    "            \"action\": \"wbsearchentities\",\n",
    "            \"search\": name,\n",
    "            \"language\": lang,\n",
    "            \"type\": \"item\",\n",
    "            \"limit\": 1,\n",
    "            \"format\": \"json\"\n",
    "        }\n",
    "    )\n",
    "    try:\n",
    "        # Return the Q-ID of the first result (e.g. \"Q123456\")\n",
    "        return data[\"search\"][0][\"id\"]\n",
    "    except (KeyError, IndexError):\n",
    "        # No result or incomplete response → return None\n",
    "        return None"
   ]
  },
  {
   "cell_type": "code",
   "execution_count": 19,
   "id": "67cc8bbba6a9e068",
   "metadata": {
    "ExecuteTime": {
     "end_time": "2025-06-07T15:28:50.390135Z",
     "start_time": "2025-06-07T15:28:50.385559Z"
    }
   },
   "outputs": [],
   "source": [
    "\"\"\"\n",
    "Searches for a Wikidata QID for an institution by its label.\n",
    "Results are cached locally.\n",
    "\"\"\"\n",
    "\n",
    "# Simple cache: institution label → QID (or None if not found)\n",
    "inst_cache: Dict[str, Optional[str]] = {}\n",
    "\n",
    "def find_qid_by_institution_label(label: str) -> Optional[str]:  # API\n",
    "    # Abort if no input\n",
    "    if not label:\n",
    "        return None\n",
    "\n",
    "    # Return from cache if already present\n",
    "    if label in inst_cache:\n",
    "        return inst_cache[label]\n",
    "\n",
    "    # Search Wikidata by label – first in English, then in German\n",
    "    for lang in (\"en\", \"de\"):\n",
    "        data = _api_get({\n",
    "            \"action\": \"wbsearchentities\", \"search\": label, \"language\": lang,\n",
    "            \"type\": \"item\", \"limit\": 1, \"format\": \"json\"})\n",
    "\n",
    "        # If match found → extract and cache QID\n",
    "        if data.get(\"search\"):\n",
    "            qid = data[\"search\"][0][\"id\"]\n",
    "            inst_cache[label] = qid\n",
    "\n",
    "            # Optional info output if German label was used\n",
    "            if lang == \"de\":\n",
    "                print(f\"[info] Institution '{label}' found via German label → {qid}\")\n",
    "            return qid\n",
    "\n",
    "    # No match in either language → cache with None\n",
    "    inst_cache[label] = None\n",
    "    return None"
   ]
  },
  {
   "cell_type": "code",
   "execution_count": 41,
   "id": "241bf54510cb35a8",
   "metadata": {
    "ExecuteTime": {
     "end_time": "2025-06-07T16:23:01.106404Z",
     "start_time": "2025-06-07T16:23:01.099878Z"
    }
   },
   "outputs": [],
   "source": [
    "def file_to_qs(infile: str, outfile: str) -> None:\n",
    "    # Determine file extension (xls/xlsx or csv)\n",
    "    ext = os.path.splitext(infile)[1].lower()\n",
    "\n",
    "    # Read input file depending on format\n",
    "    df = pd.read_excel(infile) if ext in {\".xlsx\", \".xls\"} else pd.read_csv(infile)\n",
    "\n",
    "    # Check if all required columns are present\n",
    "    required = {\"Name\", \"Institution\", \"ORCID\", \"ORCID-Link\"}\n",
    "    missing = required - set(df.columns)\n",
    "    if missing:\n",
    "        raise ValueError(f\"Missing columns: {', '.join(sorted(missing))}\")\n",
    "\n",
    "    # Initialize result list and deduplication tracker\n",
    "    rows = []\n",
    "    processed = set()\n",
    "\n",
    "    # Iterate through all rows of input file\n",
    "    for _, r in df.iterrows():\n",
    "        name = str(r[\"Name\"]).strip()\n",
    "\n",
    "        # If ORCID is NaN, treat it as empty string\n",
    "        orcid = str(r[\"ORCID\"]).strip() if pd.notna(r[\"ORCID\"]) else \"\"\n",
    "\n",
    "        # Deduplicate by name + ORCID (lowercased)\n",
    "        key = (name.lower(), orcid)\n",
    "        if key in processed:\n",
    "            continue\n",
    "        processed.add(key)\n",
    "\n",
    "        # Prepare institution and URL\n",
    "        inst_label = str(r[\"Institution\"]).strip()\n",
    "        url = r[\"ORCID-Link\"] if pd.notna(r[\"ORCID-Link\"]) else \"\"\n",
    "\n",
    "        # Check if person already exists (via ORCID or name)\n",
    "        qid = find_qid_by_orcid(orcid) or find_qid_by_name(name)\n",
    "        if qid:\n",
    "            print(f\"[skip] {name} already exists as {qid}\")\n",
    "            continue\n",
    "\n",
    "        # Try to find institution QID\n",
    "        inst_qid = find_qid_by_institution_label(inst_label)\n",
    "        if not inst_qid:\n",
    "            print(f\"[warn] Institution '{inst_label}' not found ⇒ skipped\")\n",
    "            continue\n",
    "\n",
    "        # Build QuickStatements row\n",
    "        rows.append({\n",
    "            \"qid\": \"CREATE\",\n",
    "            \"Len\": name,\n",
    "            \"P31\": \"Q5\",          # instance of → human\n",
    "            \"P496\": orcid,        # ORCID\n",
    "            \"S854\": url,          # source (URL)\n",
    "            \"P108\": inst_qid,     # employer/affiliation\n",
    "        })\n",
    "\n",
    "        # Short pause to avoid overloading the API\n",
    "        time.sleep(0.1)\n",
    "\n",
    "    # If no new rows → skip export\n",
    "    if not rows:\n",
    "        print(\"No new items – nothing exported.\")\n",
    "        return\n",
    "\n",
    "    # Write QuickStatements file in CSV format\n",
    "    field_order = [\"qid\", \"Len\", \"P31\", \"P496\", \"S854\", \"P108\"]\n",
    "    with open(outfile, \"w\", newline=\"\", encoding=\"utf-8\") as f:\n",
    "        writer = csv.DictWriter(f, fieldnames=field_order)\n",
    "        writer.writeheader()\n",
    "        writer.writerows(rows)\n",
    "\n",
    "    # Success message with row count\n",
    "    print(f\"✓ {len(rows)} QuickStatements rows → {outfile}\")\n"
   ]
  },
  {
   "cell_type": "code",
   "execution_count": 44,
   "id": "caaab3d91226c44a",
   "metadata": {
    "ExecuteTime": {
     "end_time": "2025-06-07T16:24:40.075419Z",
     "start_time": "2025-06-07T16:24:40.072718Z"
    }
   },
   "outputs": [],
   "source": [
    "# Path to input file with people, institutions, and ORCID info\n",
    "csv_input_path = \"../outputs/input_with_orcid.csv\"\n",
    "\n",
    "# Path to output file for generated QuickStatements in CSV format\n",
    "csv_output_path = \"../outputs/qs_main_items.csv\"\n",
    "\n",
    "# Start processing: check existing QIDs and create new QS rows\n",
    "file_to_qs(csv_input_path, csv_output_path)"
   ]
  },
  {
   "cell_type": "code",
   "execution_count": 45,
   "id": "251a8a4e7e037292",
   "metadata": {
    "ExecuteTime": {
     "end_time": "2025-06-07T16:24:47.197575Z",
     "start_time": "2025-06-07T16:24:44.600841Z"
    }
   },
   "outputs": [
    {
     "name": "stdout",
     "output_type": "stream",
     "text": [
      "[skip] Alexander Sczyrba existiert bereits als Q30420936\n",
      "[skip] Jens Stoye existiert bereits als Q89498719\n",
      "[skip] Michael Beckstette existiert bereits als Q114411617\n",
      "[skip] Liren Huang existiert bereits als Q114780829\n",
      "[skip] Sebastian Jünemann existiert bereits als Q56948964\n",
      "[skip] Kassian Kobert existiert bereits als Q133094637\n",
      "[skip] Anandhi Iyappan existiert bereits als Q59196905\n",
      "[skip] Peer Bork existiert bereits als Q7160367\n",
      "[skip] Sarah Schulz existiert bereits als Q65162179\n",
      "[skip] Daniel Podlesny existiert bereits als Q133331882\n",
      "[skip] Manja Marz existiert bereits als Q87730329\n",
      "[skip] Winfried Göttsch existiert bereits als Q44200631\n",
      "[skip] Anderson Santos existiert bereits als Q39510481\n",
      "[skip] Ulisses Nunes da Rocha existiert bereits als Q47007256\n",
      "[skip] Martin Bole existiert bereits als Q102304978\n",
      "[skip] Adrian Fritz existiert bereits als Q133333363\n",
      "[skip] Alice McHardy existiert bereits als Q2646932\n",
      "[skip] Mattea Müller existiert bereits als Q56957915\n",
      "[skip] Fernando Meyer existiert bereits als Q84045251\n",
      "[skip] Gary Robertson existiert bereits als Q1482829\n",
      "[skip] Stephanie Aue existiert bereits als Q124637370\n",
      "[skip] Zhi-Luo Deng existiert bereits als Q133330529\n",
      "[skip] Alexander Goesmann existiert bereits als Q52422599\n",
      "[skip] Jochen Blom existiert bereits als Q88525311\n",
      "[skip] Stefan Janssen existiert bereits als Q57140228\n",
      "[skip] Frank Förster existiert bereits als Q42155371\n",
      "[skip] Karina Brinkrolf existiert bereits als Q114721947\n",
      "[skip] Anna Rehm existiert bereits als Q107174758\n",
      "[skip] Boyke Bunk existiert bereits als Q40442775\n",
      "[skip] Isabel Schober existiert bereits als Q90259120\n",
      "[skip] Jörg Overmann existiert bereits als Q76583148\n",
      "[skip] Lorenz Reimer existiert bereits als Q89708380\n",
      "[skip] Anke Becker existiert bereits als Q21253882\n",
      "[skip] Marcus Lechner existiert bereits als Q94461378\n",
      "[skip] Paul Klemm existiert bereits als Q110227164\n",
      "[skip] Katharina Grünwald existiert bereits als Q104686981\n",
      "[skip] Thomas Clavel existiert bereits als Q40442760\n",
      "[skip] Charlie Pauvert existiert bereits als Q103017355\n",
      "[skip] Catherine Gonzalez existiert bereits als Q57054455\n",
      "[skip] Thomas Hitch existiert bereits als Q3435482\n",
      "[skip] Barbara Götz existiert bereits als Q94745883\n",
      "[skip] Ziyad existiert bereits als Q84177389\n",
      "[skip] Justine Vandendorpe existiert bereits als Q62930742\n",
      "[skip] Konrad Förstner existiert bereits als Q18744528\n",
      "[skip] Muhammad Elhossary existiert bereits als Q30045548\n",
      "✓ 25 QuickStatements-Zeilen → ../outputs/qs_main_items.csv\n"
     ]
    }
   ],
   "source": [
    "file_to_qs(csv_input_path, csv_output_path)"
   ]
  },
  {
   "cell_type": "code",
   "execution_count": 46,
   "id": "a86b1ff265e9fd44",
   "metadata": {
    "ExecuteTime": {
     "end_time": "2025-06-07T16:24:52.906340Z",
     "start_time": "2025-06-07T16:24:52.899804Z"
    }
   },
   "outputs": [
    {
     "name": "stdout",
     "output_type": "stream",
     "text": [
      "✓ ORCID-Liste wurde exportiert\n"
     ]
    }
   ],
   "source": [
    "df = pd.read_csv(csv_output_path)\n",
    "# Export only the ORCID column for further processing\n",
    "orcid_column = df[\"P496\"]\n",
    "orcid_column = orcid_column.to_frame(\"orcid\")\n",
    "orcid_column.to_csv(\"../outputs/orcid_only.csv\", index=False)\n",
    "print(\"✓ ORCID list was exported\")"
   ]
  },
  {
   "cell_type": "code",
   "execution_count": 25,
   "id": "c0aad803dbb1d4e0",
   "metadata": {
    "ExecuteTime": {
     "end_time": "2025-06-07T10:28:36.004982Z",
     "start_time": "2025-06-07T10:28:36.003473Z"
    }
   },
   "outputs": [],
   "source": [
    "# Test call (commented out)\n",
    "# orcid = \"0000-0002-1481-2996\"\n",
    "# data = fetch_orcid_sections(orcid)\n",
    "# print(data)"
   ]
  }
 ],
 "metadata": {
  "kernelspec": {
   "display_name": "Python 3 (ipykernel)",
   "language": "python",
   "name": "python3"
  }
 },
 "nbformat": 4,
 "nbformat_minor": 5
}
