{
 "cells": [
  {
   "cell_type": "code",
   "id": "initial_id",
   "metadata": {
    "collapsed": true,
    "ExecuteTime": {
     "end_time": "2025-06-30T09:06:54.455576Z",
     "start_time": "2025-06-30T09:06:54.453777Z"
    }
   },
   "source": [
    "# Imports all core libraries for web requests, data handling, and file output.\n",
    "\n",
    "import csv, time, os, re\n",
    "import pandas as pd\n",
    "from typing import Optional, Dict\n",
    "from functools import lru_cache  # CACHE"
   ],
   "outputs": [],
   "execution_count": 21
  },
  {
   "cell_type": "code",
   "id": "34c9006e2775dfe7",
   "metadata": {
    "ExecuteTime": {
     "end_time": "2025-06-30T08:59:39.491418Z",
     "start_time": "2025-06-30T08:59:39.489155Z"
    }
   },
   "source": [
    "# Brings in project-specific helper functions.\n",
    "\n",
    "from find_qid import find_qid_by_orcid\n",
    "from find_qid import _api_get"
   ],
   "outputs": [],
   "execution_count": 10
  },
  {
   "cell_type": "code",
   "id": "9e2a743109968da3",
   "metadata": {
    "ExecuteTime": {
     "end_time": "2025-06-30T08:59:39.504040Z",
     "start_time": "2025-06-30T08:59:39.500356Z"
    }
   },
   "source": [
    "\"\"\"\n",
    "Searches for the Wikidata QID of a given label (name), optionally language-specific.\n",
    "\"\"\"\n",
    "\n",
    "@lru_cache(maxsize=None)  # API/cache\n",
    "def find_qid_by_name(name: str, lang: str = \"en\") -> Optional[str]:\n",
    "    # Abort directly if input is empty\n",
    "    if not name:\n",
    "        return None\n",
    "\n",
    "    # Send API request to wbsearchentities endpoint (Wikidata search)\n",
    "    data = _api_get(\n",
    "        {\n",
    "            \"action\": \"wbsearchentities\",\n",
    "            \"search\": name,\n",
    "            \"language\": lang,\n",
    "            \"type\": \"item\",\n",
    "            \"limit\": 1,\n",
    "            \"format\": \"json\"\n",
    "        }\n",
    "    )\n",
    "    try:\n",
    "        # Return the Q-ID of the first result (e.g. \"Q123456\")\n",
    "        return data[\"search\"][0][\"id\"]\n",
    "    except (KeyError, IndexError):\n",
    "        # No result or incomplete response → return None\n",
    "        return None"
   ],
   "outputs": [],
   "execution_count": 11
  },
  {
   "cell_type": "code",
   "id": "67cc8bbba6a9e068",
   "metadata": {
    "ExecuteTime": {
     "end_time": "2025-06-30T08:59:39.515998Z",
     "start_time": "2025-06-30T08:59:39.512097Z"
    }
   },
   "source": [
    "\"\"\"\n",
    "Searches for a Wikidata QID for an institution by its label.\n",
    "Results are cached locally.\n",
    "\"\"\"\n",
    "\n",
    "# Simple cache: institution label → QID (or None if not found)\n",
    "inst_cache: Dict[str, Optional[str]] = {}\n",
    "\n",
    "def find_qid_by_institution_label(label: str) -> Optional[str]:  # API\n",
    "    # Abort if no input\n",
    "    if not label:\n",
    "        return None\n",
    "\n",
    "    # Return from cache if already present\n",
    "    if label in inst_cache:\n",
    "        return inst_cache[label]\n",
    "\n",
    "    # Search Wikidata by label – first in English, then in German\n",
    "    for lang in (\"en\", \"de\"):\n",
    "        data = _api_get({\n",
    "            \"action\": \"wbsearchentities\", \"search\": label, \"language\": lang,\n",
    "            \"type\": \"item\", \"limit\": 1, \"format\": \"json\"})\n",
    "\n",
    "        # If match found → extract and cache QID\n",
    "        if data.get(\"search\"):\n",
    "            qid = data[\"search\"][0][\"id\"]\n",
    "            inst_cache[label] = qid\n",
    "\n",
    "            # Optional info output if German label was used\n",
    "            if lang == \"de\":\n",
    "                print(f\"[info] Institution '{label}' found via German label → {qid}\")\n",
    "            return qid\n",
    "\n",
    "    # No match in either language → cache with None\n",
    "    inst_cache[label] = None\n",
    "    return None"
   ],
   "outputs": [],
   "execution_count": 12
  },
  {
   "cell_type": "code",
   "id": "241bf54510cb35a8",
   "metadata": {
    "ExecuteTime": {
     "end_time": "2025-06-30T08:59:39.526240Z",
     "start_time": "2025-06-30T08:59:39.521267Z"
    }
   },
   "source": [
    "\"\"\"\n",
    "This function generates QuickStatements for creating new person entries in Wikidata based on an enriched input file.\n",
    "Existing persons are skipped, while new ones are added with label, ORCID, source, and institution.\n",
    "\"\"\"\n",
    "\n",
    "def file_to_qs(infile: str, outfile: str) -> None:\n",
    "    # Determine file extension (xls/xlsx or csv)\n",
    "    ext = os.path.splitext(infile)[1].lower()\n",
    "\n",
    "    # Read input file depending on format\n",
    "    df = pd.read_excel(infile) if ext in {\".xlsx\", \".xls\"} else pd.read_csv(infile)\n",
    "\n",
    "    # Check if all required columns are present\n",
    "    required = {\"Name\", \"Institution\", \"ORCID\", \"ORCID-Link\"}\n",
    "    missing = required - set(df.columns)\n",
    "    if missing:\n",
    "        raise ValueError(f\"Missing columns: {', '.join(sorted(missing))}\")\n",
    "\n",
    "    # Initialize result list and deduplication tracker\n",
    "    rows = []\n",
    "    processed = set()\n",
    "\n",
    "    # Iterate through all rows of input file\n",
    "    for _, r in df.iterrows():\n",
    "        name = str(r[\"Name\"]).strip()\n",
    "\n",
    "        # If ORCID is NaN, treat it as empty string\n",
    "        orcid = str(r[\"ORCID\"]).strip() if pd.notna(r[\"ORCID\"]) else \"\"\n",
    "\n",
    "        # Deduplicate by name + ORCID (lowercased)\n",
    "        key = (name.lower(), orcid)\n",
    "        if key in processed:\n",
    "            continue\n",
    "        processed.add(key)\n",
    "\n",
    "        # Prepare institution and URL\n",
    "        inst_label = str(r[\"Institution\"]).strip()\n",
    "        url = r[\"ORCID-Link\"] if pd.notna(r[\"ORCID-Link\"]) else \"\"\n",
    "\n",
    "        # Check if person already exists (via ORCID or name)\n",
    "        qid = find_qid_by_orcid(orcid) or find_qid_by_name(name)\n",
    "        if qid:\n",
    "            print(f\"[skip] {name} already exists as {qid}\")\n",
    "            continue\n",
    "\n",
    "        # Try to find institution QID\n",
    "        inst_qid = find_qid_by_institution_label(inst_label)\n",
    "        if not inst_qid:\n",
    "            print(f\"[warn] Institution '{inst_label}' not found ⇒ skipped\")\n",
    "            continue\n",
    "\n",
    "        # Build QuickStatements row\n",
    "        rows.append({\n",
    "            \"qid\": \"CREATE\",\n",
    "            \"Len\": name,\n",
    "            \"P31\": \"Q5\",          # instance of → human\n",
    "            \"P496\": orcid,        # ORCID\n",
    "            \"S854\": url,          # source (URL)\n",
    "            \"P108\": inst_qid,     # employer/affiliation\n",
    "        })\n",
    "\n",
    "        # Short pause to avoid overloading the API\n",
    "        time.sleep(0.1)\n",
    "\n",
    "    # If no new rows → skip export\n",
    "    if not rows:\n",
    "        print(\"No new items – nothing exported.\")\n",
    "        return\n",
    "\n",
    "    #####################################################################\n",
    "    # NEW: Write the QuickStatements-File in a CSV-File\n",
    "    \"\"\"field_order = [\"qid\", \"Len\", \"P31\", \"P496\", \"S854\", \"P108\"]\n",
    "    with open(outfile, \"w\", newline=\"\", encoding=\"utf-8\") as f:\n",
    "        writer = csv.DictWriter(f, fieldnames=field_order)\n",
    "        writer.writeheader()\n",
    "        writer.writerows(rows)\"\"\"\n",
    "\n",
    "    # NEW: Write the QuickStatements-File in a CSV-File\n",
    "    with open(outfile, \"w\", encoding=\"utf-8\") as f:\n",
    "        for r in rows:\n",
    "            f.write(\"CREATE\\n\")\n",
    "            f.write(f'LAST|Len|\"{r[\"Len\"]}\"\\n')\n",
    "            f.write(\"LAST|P31|Q5\\n\")\n",
    "            if r[\"P496\"]:\n",
    "                f.write(f'LAST|P496|\"{r[\"P496\"]}\"|S854|\"{r[\"S854\"]}\"\\n')\n",
    "            f.write(f\"LAST|P108|{r['P108']}\\n\\n\")\n",
    "    #####################################################################\n",
    "\n",
    "    # Success message with row count\n",
    "    print(f\"✓ {len(rows)} QuickStatements rows → {outfile}\")\n"
   ],
   "outputs": [],
   "execution_count": 13
  },
  {
   "cell_type": "code",
   "id": "caaab3d91226c44a",
   "metadata": {
    "ExecuteTime": {
     "end_time": "2025-06-30T08:59:59.664175Z",
     "start_time": "2025-06-30T08:59:39.532082Z"
    }
   },
   "source": [
    "# Path to input file with people, institutions, and ORCID info\n",
    "csv_input_path = \"../outputs/input_with_orcid.csv\"\n",
    "\n",
    "# Path to output file for generated QuickStatements in CSV format\n",
    "csv_output_path = \"../outputs/qs_main_items.csv\"\n",
    "\n",
    "# Start processing: check existing QIDs and create new QS rows\n",
    "file_to_qs(csv_input_path, csv_output_path)"
   ],
   "outputs": [
    {
     "name": "stdout",
     "output_type": "stream",
     "text": [
      "[skip] Alexander Sczyrba already exists as Q30420936\n",
      "[skip] Jens Stoye already exists as Q89498719\n",
      "[skip] Michael Beckstette already exists as Q114411617\n",
      "[skip] Liren Huang already exists as Q114780829\n",
      "[skip] Sebastian Jünemann already exists as Q56948964\n",
      "[skip] Kassian Kobert already exists as Q133094637\n",
      "[skip] Anandhi Iyappan already exists as Q59196905\n",
      "[skip] Peer Bork already exists as Q7160367\n",
      "[skip] Sarah Schulz already exists as Q65162179\n",
      "[skip] Daniel Podlesny already exists as Q133331882\n",
      "[skip] Manja Marz already exists as Q87730329\n",
      "[skip] Winfried Göttsch already exists as Q44200631\n",
      "[skip] Anderson Santos already exists as Q39510481\n",
      "[skip] Ulisses Nunes da Rocha already exists as Q47007256\n",
      "[skip] Martin Bole already exists as Q102304978\n",
      "[skip] Adrian Fritz already exists as Q133333363\n",
      "[skip] Alice McHardy already exists as Q2646932\n",
      "[skip] Mattea Müller already exists as Q56957915\n",
      "[skip] Fernando Meyer already exists as Q84045251\n",
      "[skip] Gary Robertson already exists as Q1482829\n",
      "[skip] Stephanie Aue already exists as Q124637370\n",
      "[skip] Zhi-Luo Deng already exists as Q133330529\n",
      "[skip] Alexander Goesmann already exists as Q52422599\n",
      "[skip] Jochen Blom already exists as Q88525311\n",
      "[skip] Stefan Janssen already exists as Q57140228\n",
      "[skip] Frank Förster already exists as Q42155371\n",
      "[skip] Karina Brinkrolf already exists as Q114721947\n",
      "[skip] Anna Rehm already exists as Q107174758\n",
      "[skip] Boyke Bunk already exists as Q40442775\n",
      "[skip] Isabel Schober already exists as Q90259120\n",
      "[skip] Jörg Overmann already exists as Q76583148\n",
      "[skip] Lorenz Reimer already exists as Q89708380\n",
      "[skip] Anke Becker already exists as Q21253882\n",
      "[skip] Marcus Lechner already exists as Q94461378\n",
      "[skip] Paul Klemm already exists as Q110227164\n",
      "[skip] Katharina Grünwald already exists as Q104686981\n",
      "[skip] Thomas Clavel already exists as Q40442760\n",
      "[skip] Charlie Pauvert already exists as Q103017355\n",
      "[skip] Catherine Gonzalez already exists as Q57054455\n",
      "[skip] Thomas Hitch already exists as Q3435482\n",
      "[skip] Barbara Götz already exists as Q94745883\n",
      "[skip] Ziyad already exists as Q84177389\n",
      "[skip] Justine Vandendorpe already exists as Q62930742\n",
      "[skip] Konrad Förstner already exists as Q18744528\n",
      "[skip] Muhammad Elhossary already exists as Q30045548\n",
      "✓ 25 QuickStatements rows → ../outputs/qs_main_items.csv\n"
     ]
    }
   ],
   "execution_count": 14
  },
  {
   "cell_type": "code",
   "id": "a86b1ff265e9fd44",
   "metadata": {
    "ExecuteTime": {
     "end_time": "2025-06-30T09:06:58.055895Z",
     "start_time": "2025-06-30T09:06:58.046432Z"
    }
   },
   "source": [
    "#####################################################################\n",
    "\"\"\" OLD:\n",
    "df = pd.read_csv(csv_output_path)\n",
    "\n",
    "# Export only the ORCID column for further processing\n",
    "orcid_column = df[[\"P496\"]].rename(columns={\"P496\": \"orcid\"})\n",
    "orcid_column.to_csv(\"../outputs/orcid_only.csv\", index=False)\n",
    "\n",
    "print(\"✓ ORCID list was exported\")\n",
    "\"\"\"\n",
    "#####################################################################\n",
    "#####################################################################\n",
    "# NEW:\n",
    "#####################################################################\n",
    "# Load the QuickStatements CSV file\n",
    "df_main = pd.read_csv(csv_output_path)\n",
    "\n",
    "# Filter only the rows that contain an ORCID (P496)\n",
    "orcid_lines = df_main[df_main['CREATE'].str.contains(\"P496\", na=False)]\n",
    "\n",
    "# Extract ORCID values using a regular expression\n",
    "# The pattern looks for: P496|\"0000-0001-2345-6789\"\n",
    "orcids = orcid_lines['CREATE'].apply(lambda x: re.search(r'P496\\|\\\"([\\d\\-X]+)\\\"', x))\n",
    "orcid_values = orcids.dropna().apply(lambda m: m.group(1))\n",
    "\n",
    "# Convert the extracted values into a new DataFrame\n",
    "orcid_df = pd.DataFrame(orcid_values, columns=[\"orcid\"])\n",
    "\n",
    "# Export the result to CSV\n",
    "orcid_df.to_csv(\"../outputs/orcid_only.csv\", index=False)\n",
    "print(\"✓ ORCID list exported successfully.\")\n",
    "#####################################################################"
   ],
   "outputs": [
    {
     "name": "stdout",
     "output_type": "stream",
     "text": [
      "✓ ORCID list exported successfully.\n"
     ]
    }
   ],
   "execution_count": 22
  },
  {
   "cell_type": "code",
   "execution_count": 25,
   "id": "c0aad803dbb1d4e0",
   "metadata": {
    "ExecuteTime": {
     "end_time": "2025-06-30T09:00:02.349875Z",
     "start_time": "2025-06-07T10:28:36.003473Z"
    }
   },
   "outputs": [],
   "source": [
    "# Test call (commented out)\n",
    "# orcid = \"0000-0002-1481-2996\"\n",
    "# data = fetch_orcid_sections(orcid)\n",
    "# print(data)"
   ]
  }
 ],
 "metadata": {
  "kernelspec": {
   "display_name": "Python 3 (ipykernel)",
   "language": "python",
   "name": "python3"
  }
 },
 "nbformat": 4,
 "nbformat_minor": 5
}
