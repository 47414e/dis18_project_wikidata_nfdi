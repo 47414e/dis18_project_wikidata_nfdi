{
 "cells": [
  {
   "cell_type": "code",
   "id": "initial_id",
   "metadata": {
    "collapsed": true,
    "ExecuteTime": {
     "end_time": "2025-06-07T15:28:41.481162Z",
     "start_time": "2025-06-07T15:28:41.477911Z"
    }
   },
   "source": [
    "import csv, time, os\n",
    "import pandas as pd\n",
    "from typing import Optional, Dict\n",
    "from functools import lru_cache  # CACHE"
   ],
   "outputs": [],
   "execution_count": 16
  },
  {
   "cell_type": "code",
   "id": "34c9006e2775dfe7",
   "metadata": {
    "ExecuteTime": {
     "end_time": "2025-06-07T15:28:47.975697Z",
     "start_time": "2025-06-07T15:28:47.972691Z"
    }
   },
   "source": [
    "from find_qid import find_qid_by_orcid\n",
    "from find_qid import _api_get"
   ],
   "outputs": [],
   "execution_count": 17
  },
  {
   "cell_type": "code",
   "id": "9e2a743109968da3",
   "metadata": {
    "ExecuteTime": {
     "end_time": "2025-06-07T15:28:48.668861Z",
     "start_time": "2025-06-07T15:28:48.665441Z"
    }
   },
   "source": [
    "\"\"\"\n",
    "Sucht die Wikidata-QID für ein gegebenes Label (Name), optional sprachspezifisch.\n",
    "\"\"\"\n",
    "\n",
    "@lru_cache(maxsize=None)  # API/cache\n",
    "def find_qid_by_name(name: str, lang: str = \"en\") -> Optional[str]:\n",
    "    # Leere Eingabe direkt abbrechen\n",
    "    if not name:\n",
    "        return None\n",
    "\n",
    "    # Sende API-Anfrage an den wbsearchentities-Endpunkt (Wikidata-Suche)\n",
    "    data = _api_get(\n",
    "        {\n",
    "            \"action\": \"wbsearchentities\",\n",
    "            \"search\": name,\n",
    "            \"language\": lang,\n",
    "            \"type\": \"item\",\n",
    "            \"limit\": 1,\n",
    "            \"format\": \"json\"\n",
    "        }\n",
    "    )\n",
    "    try:\n",
    "        # Gib die Q-ID des ersten Treffers zurück (z. B. \"Q123456\")\n",
    "        return data[\"search\"][0][\"id\"]\n",
    "    except (KeyError, IndexError):\n",
    "        # Kein Treffer oder unvollständige Antwort → gib None zurück\n",
    "        return None"
   ],
   "outputs": [],
   "execution_count": 18
  },
  {
   "metadata": {
    "ExecuteTime": {
     "end_time": "2025-06-07T15:28:50.390135Z",
     "start_time": "2025-06-07T15:28:50.385559Z"
    }
   },
   "cell_type": "code",
   "source": [
    "\"\"\"\n",
    "Sucht nach einer Wikidata-QID für eine Institution anhand ihres Labels.\n",
    "Ergebnisse werden im lokalen Cache gespeichert.\n",
    "\"\"\"\n",
    "\n",
    "# Einfacher Cache für Institutionslabels → QID (oder None, falls nicht gefunden)\n",
    "inst_cache: Dict[str, Optional[str]] = {}\n",
    "\n",
    "def find_qid_by_institution_label(label: str) -> Optional[str]:  # API\n",
    "    # Falls keine Eingabe → abbrechen\n",
    "    if not label:\n",
    "        return None\n",
    "\n",
    "    # Falls Ergebnis schon im Cache → direkt zurückgeben\n",
    "    if label in inst_cache:\n",
    "        return inst_cache[label]\n",
    "\n",
    "    # Durchsuche Wikidata nach dem Label – zuerst auf Englisch, dann auf Deutsch\n",
    "    for lang in (\"en\", \"de\"):\n",
    "        data = _api_get({\n",
    "            \"action\": \"wbsearchentities\", \"search\": label, \"language\": lang,\n",
    "            \"type\": \"item\", \"limit\": 1, \"format\": \"json\"})\n",
    "\n",
    "        # Falls Treffer vorhanden → QID extrahieren und cachen\n",
    "        if data.get(\"search\"):\n",
    "            qid = data[\"search\"][0][\"id\"]\n",
    "            inst_cache[label] = qid\n",
    "\n",
    "            # Optionale Ausgabe, wenn deutsches Label verwendet wurde\n",
    "            if lang == \"de\":\n",
    "                print(f\"[info] Institution '{label}' über deutsches Label gefunden → {qid}\")\n",
    "            return qid\n",
    "\n",
    "    # Kein Treffer in beiden Sprachen → Cache mit None füllen\n",
    "    inst_cache[label] = None\n",
    "    return None"
   ],
   "id": "67cc8bbba6a9e068",
   "outputs": [],
   "execution_count": 19
  },
  {
   "cell_type": "code",
   "id": "241bf54510cb35a8",
   "metadata": {
    "ExecuteTime": {
     "end_time": "2025-06-07T16:23:01.106404Z",
     "start_time": "2025-06-07T16:23:01.099878Z"
    }
   },
   "source": [
    "def file_to_qs(infile: str, outfile: str) -> None:\n",
    "    # Bestimme Dateierweiterung (xls/xlsx oder csv)\n",
    "    ext = os.path.splitext(infile)[1].lower()\n",
    "\n",
    "    # Lese die Eingabedatei je nach Format ein\n",
    "    df = pd.read_excel(infile) if ext in {\".xlsx\", \".xls\"} else pd.read_csv(infile)\n",
    "\n",
    "    # Prüfe, ob alle erforderlichen Spalten vorhanden sind\n",
    "    required = {\"Name\", \"Institution\", \"ORCID\", \"ORCID-Link\"}\n",
    "    missing = required - set(df.columns)\n",
    "    if missing:\n",
    "        raise ValueError(f\"Fehlende Spalten: {', '.join(sorted(missing))}\")\n",
    "\n",
    "    # Initialisiere Ergebnisliste und Duplikat-Tracker\n",
    "    rows = []\n",
    "    processed = set()\n",
    "\n",
    "    # Iteriere über alle Zeilen der Eingabedatei\n",
    "    for _, r in df.iterrows():\n",
    "        name = str(r[\"Name\"]).strip()\n",
    "\n",
    "        # ORCID ggf. leer setzen, wenn NaN\n",
    "        orcid = str(r[\"ORCID\"]).strip() if pd.notna(r[\"ORCID\"]) else \"\"\n",
    "\n",
    "        # Dedupliziere anhand von Name + ORCID (kleingeschrieben)\n",
    "        key = (name.lower(), orcid)\n",
    "        if key in processed:\n",
    "            continue\n",
    "        processed.add(key)\n",
    "\n",
    "        # Institution und URL vorbereiten\n",
    "        inst_label = str(r[\"Institution\"]).strip()\n",
    "        url = r[\"ORCID-Link\"] if pd.notna(r[\"ORCID-Link\"]) else \"\"\n",
    "\n",
    "        # Prüfe, ob Person bereits existiert (über ORCID oder Name)\n",
    "        qid = find_qid_by_orcid(orcid) or find_qid_by_name(name)\n",
    "        if qid:\n",
    "            print(f\"[skip] {name} existiert bereits als {qid}\")\n",
    "            continue\n",
    "\n",
    "        # Versuche, die QID der Institution zu finden\n",
    "        inst_qid = find_qid_by_institution_label(inst_label)\n",
    "        if not inst_qid:\n",
    "            print(f\"[warn] Institution '{inst_label}' nicht gefunden ⇒ übersprungen\")\n",
    "            continue\n",
    "\n",
    "        # Baue QuickStatements-Zeile\n",
    "        rows.append({\n",
    "            \"qid\": \"CREATE\",\n",
    "            \"Len\": name,\n",
    "            \"P31\": \"Q5\",          # instance of → human\n",
    "            \"P496\": orcid,        # ORCID\n",
    "            \"S854\": url,          # Quelle (URL)\n",
    "            \"P108\": inst_qid,     # employer/affiliation\n",
    "        })\n",
    "\n",
    "        # Kurze Pause, um API nicht zu überlasten\n",
    "        time.sleep(0.1)\n",
    "\n",
    "    # Falls keine neuen Zeilen → keine Ausgabe\n",
    "    if not rows:\n",
    "        print(\"Keine neuen Items – nichts exportiert.\")\n",
    "        return\n",
    "\n",
    "    # Schreibe die QuickStatements-Datei im CSV-Format\n",
    "    field_order = [\"qid\", \"Len\", \"P31\", \"P496\", \"S854\", \"P108\"]\n",
    "    with open(outfile, \"w\", newline=\"\", encoding=\"utf-8\") as f:\n",
    "        writer = csv.DictWriter(f, fieldnames=field_order)\n",
    "        writer.writeheader()\n",
    "        writer.writerows(rows)\n",
    "\n",
    "    # Erfolgsmeldung mit Zeilenanzahl\n",
    "    print(f\"✓ {len(rows)} QuickStatements-Zeilen → {outfile}\")"
   ],
   "outputs": [],
   "execution_count": 41
  },
  {
   "cell_type": "code",
   "id": "caaab3d91226c44a",
   "metadata": {
    "ExecuteTime": {
     "end_time": "2025-06-07T16:24:40.075419Z",
     "start_time": "2025-06-07T16:24:40.072718Z"
    }
   },
   "source": [
    "# Pfad zur Eingabedatei mit Personen, Institutionen und ORCID-Informationen\n",
    "csv_input_path = \"../outputs/input_with_orcid.csv\"\n",
    "\n",
    "# Pfad zur Zieldatei für generierte QuickStatements im CSV-Format\n",
    "csv_output_path = \"../outputs/qs_main_items.csv\"\n",
    "\n",
    "# Starte die Verarbeitung: prüfe vorhandene QIDs und erstelle neue QS-Zeilen"
   ],
   "outputs": [],
   "execution_count": 44
  },
  {
   "metadata": {
    "ExecuteTime": {
     "end_time": "2025-06-07T16:24:47.197575Z",
     "start_time": "2025-06-07T16:24:44.600841Z"
    }
   },
   "cell_type": "code",
   "source": "file_to_qs(csv_input_path, csv_output_path)",
   "id": "251a8a4e7e037292",
   "outputs": [
    {
     "name": "stdout",
     "output_type": "stream",
     "text": [
      "[skip] Alexander Sczyrba existiert bereits als Q30420936\n",
      "[skip] Jens Stoye existiert bereits als Q89498719\n",
      "[skip] Michael Beckstette existiert bereits als Q114411617\n",
      "[skip] Liren Huang existiert bereits als Q114780829\n",
      "[skip] Sebastian Jünemann existiert bereits als Q56948964\n",
      "[skip] Kassian Kobert existiert bereits als Q133094637\n",
      "[skip] Anandhi Iyappan existiert bereits als Q59196905\n",
      "[skip] Peer Bork existiert bereits als Q7160367\n",
      "[skip] Sarah Schulz existiert bereits als Q65162179\n",
      "[skip] Daniel Podlesny existiert bereits als Q133331882\n",
      "[skip] Manja Marz existiert bereits als Q87730329\n",
      "[skip] Winfried Göttsch existiert bereits als Q44200631\n",
      "[skip] Anderson Santos existiert bereits als Q39510481\n",
      "[skip] Ulisses Nunes da Rocha existiert bereits als Q47007256\n",
      "[skip] Martin Bole existiert bereits als Q102304978\n",
      "[skip] Adrian Fritz existiert bereits als Q133333363\n",
      "[skip] Alice McHardy existiert bereits als Q2646932\n",
      "[skip] Mattea Müller existiert bereits als Q56957915\n",
      "[skip] Fernando Meyer existiert bereits als Q84045251\n",
      "[skip] Gary Robertson existiert bereits als Q1482829\n",
      "[skip] Stephanie Aue existiert bereits als Q124637370\n",
      "[skip] Zhi-Luo Deng existiert bereits als Q133330529\n",
      "[skip] Alexander Goesmann existiert bereits als Q52422599\n",
      "[skip] Jochen Blom existiert bereits als Q88525311\n",
      "[skip] Stefan Janssen existiert bereits als Q57140228\n",
      "[skip] Frank Förster existiert bereits als Q42155371\n",
      "[skip] Karina Brinkrolf existiert bereits als Q114721947\n",
      "[skip] Anna Rehm existiert bereits als Q107174758\n",
      "[skip] Boyke Bunk existiert bereits als Q40442775\n",
      "[skip] Isabel Schober existiert bereits als Q90259120\n",
      "[skip] Jörg Overmann existiert bereits als Q76583148\n",
      "[skip] Lorenz Reimer existiert bereits als Q89708380\n",
      "[skip] Anke Becker existiert bereits als Q21253882\n",
      "[skip] Marcus Lechner existiert bereits als Q94461378\n",
      "[skip] Paul Klemm existiert bereits als Q110227164\n",
      "[skip] Katharina Grünwald existiert bereits als Q104686981\n",
      "[skip] Thomas Clavel existiert bereits als Q40442760\n",
      "[skip] Charlie Pauvert existiert bereits als Q103017355\n",
      "[skip] Catherine Gonzalez existiert bereits als Q57054455\n",
      "[skip] Thomas Hitch existiert bereits als Q3435482\n",
      "[skip] Barbara Götz existiert bereits als Q94745883\n",
      "[skip] Ziyad existiert bereits als Q84177389\n",
      "[skip] Justine Vandendorpe existiert bereits als Q62930742\n",
      "[skip] Konrad Förstner existiert bereits als Q18744528\n",
      "[skip] Muhammad Elhossary existiert bereits als Q30045548\n",
      "✓ 25 QuickStatements-Zeilen → ../outputs/qs_main_items.csv\n"
     ]
    }
   ],
   "execution_count": 45
  },
  {
   "metadata": {
    "ExecuteTime": {
     "end_time": "2025-06-07T16:24:52.906340Z",
     "start_time": "2025-06-07T16:24:52.899804Z"
    }
   },
   "cell_type": "code",
   "source": [
    "df = pd.read_csv(csv_output_path)\n",
    "# Export nur der ORCID-Spalte für die Weiterverarbeitung als CSV\n",
    "orcid_column = df[\"P496\"]\n",
    "orcid_column = orcid_column.to_frame(\"orcid\")\n",
    "orcid_column.to_csv(\"../outputs/orcid_only.csv\", index=False, )\n",
    "print(\"✓ ORCID-Liste wurde exportiert\")"
   ],
   "id": "a86b1ff265e9fd44",
   "outputs": [
    {
     "name": "stdout",
     "output_type": "stream",
     "text": [
      "✓ ORCID-Liste wurde exportiert\n"
     ]
    }
   ],
   "execution_count": 46
  },
  {
   "metadata": {
    "ExecuteTime": {
     "end_time": "2025-06-07T10:28:36.004982Z",
     "start_time": "2025-06-07T10:28:36.003473Z"
    }
   },
   "cell_type": "code",
   "source": [
    "# Testaufruf\n",
    "# orcid = \"0000-0002-1481-2996\"\n",
    "# data = fetch_orcid_sections(orcid)\n",
    "# print(data)"
   ],
   "id": "c0aad803dbb1d4e0",
   "outputs": [],
   "execution_count": 25
  }
 ],
 "metadata": {
  "kernelspec": {
   "name": "python3",
   "language": "python",
   "display_name": "Python 3 (ipykernel)"
  }
 },
 "nbformat": 4,
 "nbformat_minor": 5
}
