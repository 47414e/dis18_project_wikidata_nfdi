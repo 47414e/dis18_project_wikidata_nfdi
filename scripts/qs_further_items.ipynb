{
 "cells": [
  {
   "cell_type": "code",
   "execution_count": 56,
   "id": "ac61ecadf0c51258",
   "metadata": {
    "ExecuteTime": {
     "end_time": "2025-06-07T15:29:46.130403Z",
     "start_time": "2025-06-07T15:29:46.128143Z"
    }
   },
   "outputs": [],
   "source": [
    "import requests, csv\n",
    "import pandas as pd\n",
    "from datetime import date"
   ]
  },
  {
   "cell_type": "code",
   "execution_count": null,
   "id": "8ce0d84045450c0e",
   "metadata": {},
   "outputs": [],
   "source": [
    "from find_qid import find_qid_by_orcid\n",
    "from find_qid import _api_get"
   ]
  },
  {
   "cell_type": "code",
   "execution_count": null,
   "id": "initial_id",
   "metadata": {
    "ExecuteTime": {
     "end_time": "2025-06-07T16:19:29.835890Z",
     "start_time": "2025-06-07T16:19:29.830683Z"
    },
    "collapsed": true
   },
   "outputs": [],
   "source": [
    "def fetch_orcid_sections(orcid_id: str) -> dict:\n",
    "    headers = {\"Accept\": \"application/json\"}\n",
    "    base_url = f\"https://pub.orcid.org/v3.0/{orcid_id}\"\n",
    "\n",
    "    # def fetch_employment():\n",
    "    #     url = f\"{base_url}/employments\"\n",
    "    #     resp = requests.get(url, headers=headers)\n",
    "    #     out = []\n",
    "    #     if resp.ok:\n",
    "    #         for group in resp.json().get(\"affiliation-group\", []):\n",
    "    #             for s in group.get(\"summaries\", []):\n",
    "    #                 emp = s.get(\"employment-summary\")\n",
    "    #                 if emp:\n",
    "    #                     out.append(emp)\n",
    "    #     return out[:5]\n",
    "\n",
    "    def fetch_education():\n",
    "        url = f\"{base_url}/educations\"\n",
    "        resp = requests.get(url, headers=headers)\n",
    "        out = []\n",
    "        if resp.ok:\n",
    "            for group in resp.json().get(\"affiliation-group\", []):\n",
    "                for s in group.get(\"summaries\", []):\n",
    "                    edu = s.get(\"education-summary\")\n",
    "                    if edu:\n",
    "                        out.append(edu)\n",
    "        return out\n",
    "\n",
    "    def fetch_works():\n",
    "        url = f\"{base_url}/works\"\n",
    "        resp = requests.get(url, headers=headers)\n",
    "        out = []\n",
    "        if resp.ok:\n",
    "            for group in resp.json().get(\"group\", []):\n",
    "                work_summary = group.get(\"work-summary\", [])\n",
    "                if work_summary:\n",
    "                    out.append(work_summary[0])  # only the first (representative) version\n",
    "        return out[:5]\n",
    "\n",
    "    def fetch_peer_reviews():\n",
    "        url = f\"{base_url}/peer-reviews\"\n",
    "        resp = requests.get(url, headers=headers)\n",
    "        out = []\n",
    "        if resp.ok:\n",
    "            for group in resp.json().get(\"group\", []):\n",
    "                for subgroup in group.get(\"peer-review-group\", []):\n",
    "                    for summary in subgroup.get(\"peer-review-summary\", []):\n",
    "                        out.append(summary)\n",
    "        return out\n",
    "\n",
    "    return {\n",
    "        # \"Employment\": fetch_employment(),\n",
    "        \"Education and qualification\": fetch_education(),\n",
    "        \"Work\": fetch_works(),\n",
    "        \"Peer Reviews\": fetch_peer_reviews(),\n",
    "    }\n"
   ]
  },
  {
   "cell_type": "code",
   "execution_count": 102,
   "id": "12dd099639b9d2e7",
   "metadata": {
    "ExecuteTime": {
     "end_time": "2025-06-07T16:19:32.296070Z",
     "start_time": "2025-06-07T16:19:32.292638Z"
    }
   },
   "outputs": [],
   "source": [
    "def sort_by_completion_year(entries, reverse=True):\n",
    "    def extract_year(entry):\n",
    "        return int(entry.get(\"completion-date\", {}).get(\"year\", {}).get(\"value\") or 9999)\n",
    "    return sorted(entries, key=extract_year, reverse=reverse)"
   ]
  },
  {
   "cell_type": "code",
   "execution_count": null,
   "id": "92e0fbaa6ffc6499",
   "metadata": {
    "ExecuteTime": {
     "end_time": "2025-06-07T15:03:38.733666Z",
     "start_time": "2025-06-07T15:03:38.731354Z"
    }
   },
   "outputs": [],
   "source": [
    "# Test call\n",
    "# peer_list = sort_by_completion_year(data.get(\"Peer Reviews\", []))\n",
    "# review = peer_list[0] if peer_list else None\n",
    "\n",
    "# print(review)"
   ]
  },
  {
   "cell_type": "code",
   "execution_count": null,
   "id": "f9e36f2b9942b9db",
   "metadata": {
    "ExecuteTime": {
     "end_time": "2025-06-07T16:19:41.925485Z",
     "start_time": "2025-06-07T16:19:41.917636Z"
    }
   },
   "outputs": [
    {
     "name": "stdout",
     "output_type": "stream",
     "text": [
      "Processing 0000-0001-9124-5203\n",
      "Processing 0009-0009-8131-7627\n",
      "Processing 0000-0003-0161-0559\n",
      "Processing 0000-0003-1655-0931\n",
      "Processing 0000-0002-3757-0037\n",
      "Processing 0000-0001-8999-4395\n",
      "Processing 0009-0007-0313-2593\n",
      "Processing 0000-0001-6513-5350\n",
      "Processing 0009-0005-5325-8309\n",
      "Processing 0009-0000-1799-5268\n",
      "Processing 0009-0005-9811-5862\n",
      "Processing 0000-0003-0616-5191\n",
      "Processing 0000-0001-5130-546X\n",
      "Processing 0009-0004-4382-4760\n",
      "Processing 0009-0008-0887-0015\n",
      "Processing 0009-0007-3729-1533\n",
      "Processing 0000-0003-4328-9193\n",
      "Processing 0009-0006-8111-1723\n",
      "Processing 0009-0008-2472-5061\n",
      "Processing 0009-0004-2517-0791\n",
      "Processing 0000-0002-9316-8982\n",
      "Processing 0009-0001-7836-1274\n"
     ]
    }
   ],
   "source": [
    "csv_input_path = \"../outputs/orcid_only.csv\"\n",
    "df = pd.read_csv(csv_input_path).dropna()\n",
    "# df = df.head(15)\n",
    "for _, r in df.iterrows():\n",
    "    # name = str(r[\"Name\"]).strip()\n",
    "    orcid = str(r[\"orcid\"]).strip() if pd.notna(r[\"orcid\"]) else \"\"\n",
    "    print(f\"Processing {orcid}\")\n",
    "    qid = find_qid_by_orcid(orcid)\n"
   ]
  },
  {
   "cell_type": "code",
   "execution_count": null,
   "id": "5650b68c46e5a698",
   "metadata": {
    "ExecuteTime": {
     "end_time": "2025-06-07T16:21:06.621455Z",
     "start_time": "2025-06-07T16:21:06.613902Z"
    }
   },
   "outputs": [],
   "source": [
    "def export_orcid_qs(data_dict: dict, output_path: str, limits: dict):\n",
    "    today = date.today().isoformat()\n",
    "    today_wd = f'+{today}T00:00:00Z/11'\n",
    "\n",
    "    with open(output_path, mode='w', newline='', encoding='utf-8') as f:\n",
    "        writer = csv.writer(f, delimiter='|', quoting=csv.QUOTE_MINIMAL)\n",
    "        writer.writerow(['ID', 'P', 'Value', 'Qualifier_P', 'Qualifier_V', 'S854', 'S813'])\n",
    "\n",
    "        for orcid_id, sections in data_dict.items():\n",
    "            source_url = f\"https://orcid.org/{orcid_id}\"\n",
    "\n",
    "            # EMPLOYMENT → P108\n",
    "            # for emp in sections.get(\"Employment\", [])[:limits.get(\"Employment\", 1)]:\n",
    "            #     if not isinstance(emp, dict):\n",
    "            #         continue\n",
    "            #     org = emp.get('organization', {}).get('name')\n",
    "            #     start = (emp.get('start-date') or {}).get('year', {}).get('value') or {}\n",
    "            #     start_fmt = f'+{start}-00-00T00:00:00Z/9' if start else ''\n",
    "            #     if org:\n",
    "            #         row = ['CREATE', 'P108', org]\n",
    "            #         row += ['P580', start_fmt] if start_fmt else ['', '']\n",
    "            #         row += ['S854', source_url, 'S813', today_wd]\n",
    "            #         writer.writerow(row)\n",
    "\n",
    "            # EDUCATION → P69\n",
    "            for edu in sections.get(\"Education and qualification\", [])[:limits.get(\"Education\", 0)]:\n",
    "                if not isinstance(edu, dict):\n",
    "                    continue\n",
    "\n",
    "                inst = edu.get('organization', {}).get('name')\n",
    "                start = (edu.get('start-date') or {}).get('year', {}).get('value')\n",
    "                start_fmt = f'+{start}-00-00T00:00:00Z/9' if start else ''\n",
    "                if inst:\n",
    "                    row = ['CREATE', 'P69', inst]\n",
    "                    row += ['P580', start_fmt] if start_fmt else ['', '']\n",
    "                    row += ['S854', source_url, 'S813', today_wd]\n",
    "                    writer.writerow(row)\n",
    "\n",
    "            # WORK → P800\n",
    "            for work in sections.get(\"Work\", [])[:limits.get(\"Work\", 0)]:\n",
    "                if not isinstance(work, dict):\n",
    "                    continue\n",
    "\n",
    "                title = work.get(\"title\", {}).get(\"title\", {}).get(\"value\")\n",
    "                if title:\n",
    "                    row = ['CREATE', 'P800', title, '', '', 'S854', source_url, 'S813', today_wd]\n",
    "                    writer.writerow(row)\n",
    "\n",
    "            # PEER REVIEW → P4032\n",
    "            peer_list = sort_by_completion_year(sections.get(\"Peer Reviews\", []))[:limits.get(\"Peer\", 0)]\n",
    "            for review in peer_list:\n",
    "                if not isinstance(review, dict):\n",
    "                    continue\n",
    "\n",
    "                org = review.get(\"convening-organization\", {}).get(\"name\")\n",
    "                issn = review.get(\"review-group-id\", \"\")\n",
    "\n",
    "                if issn.startswith(\"issn:\"):\n",
    "                    issn = issn.replace(\"issn:\", \"\")\n",
    "                else:\n",
    "                    issn = \"\"\n",
    "\n",
    "                if org:\n",
    "                    row = ['CREATE', 'P4032', org]\n",
    "                    if issn:\n",
    "                        row += ['P236', issn]\n",
    "                    else:\n",
    "                        row += ['', '']\n",
    "                    row += ['S854', source_url, 'S813', today_wd]\n",
    "                    writer.writerow(row)\n"
   ]
  },
  {
   "cell_type": "code",
   "execution_count": null,
   "id": "6c944f9a8914a828",
   "metadata": {
    "ExecuteTime": {
     "end_time": "2025-06-07T13:43:25.249553Z",
     "start_time": "2025-06-07T13:43:25.247774Z"
    }
   },
   "outputs": [],
   "source": [
    "# Test call\n",
    "# orcid_id = \"0000-0002-1481-2996\"\n",
    "# data = fetch_orcid_sections(orcid_id)\n",
    "\n",
    "# print(data)"
   ]
  },
  {
   "cell_type": "code",
   "execution_count": 110,
   "id": "8b15faba92f58e38",
   "metadata": {
    "ExecuteTime": {
     "end_time": "2025-06-07T16:25:31.701445Z",
     "start_time": "2025-06-07T16:25:18.104858Z"
    }
   },
   "outputs": [],
   "source": [
    "orcid_ids = df[\"orcid\"] #[\"0000-0002-1481-2996\", \"0000-0002-9421-8582\"]\n",
    "orcid_data = {oid: fetch_orcid_sections(oid) for oid in orcid_ids}\n",
    "\n",
    "limits = {\n",
    "    #\"Employment\": 1,\n",
    "    \"Education\": 1,\n",
    "    \"Work\": 1,\n",
    "    \"Peer\": 1\n",
    "}\n",
    "# print(orcid_data)\n",
    "export_orcid_qs(orcid_data, \"../outputs/qs_further_items_output.csv\", limits)"
   ]
  }
 ],
 "metadata": {
  "kernelspec": {
   "display_name": "Python 3",
   "language": "python",
   "name": "python3"
  },
  "language_info": {
   "codemirror_mode": {
    "name": "ipython",
    "version": 2
   },
   "file_extension": ".py",
   "mimetype": "text/x-python",
   "name": "python",
   "nbconvert_exporter": "python",
   "pygments_lexer": "ipython2",
   "version": "2.7.6"
  }
 },
 "nbformat": 4,
 "nbformat_minor": 5
}
