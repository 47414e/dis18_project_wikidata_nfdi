{
 "cells": [
  {
   "metadata": {},
   "cell_type": "code",
   "outputs": [],
   "execution_count": null,
   "source": [
    "# Standard Bibliotheken, die nicht installiert werden müssen\n",
    "\n",
    "# Komfortables Parsen von Kommandozeilenargumenten.\n",
    "# argparse\n",
    "\n",
    "# Einfache Lese-/Schreib-Routinen für CSV-Dateien\n",
    "# csv\n",
    "\n",
    "# Flexibles, thread-sicheres Logging-Framework.\n",
    "# logging\n",
    "\n",
    "# Niedrigschwelliger Zugriff auf Zeitfunktionen\n",
    "# time\n",
    "\n",
    "# Basis-HTTP und URL-Utilities ohne externe Abhängigkeiten.\n",
    "# urllib\n",
    "\n",
    "# Betriebssystem-Schnittstelle\n",
    "# os\n",
    "\n",
    "# aktiviert zukunftsbezogene Features (hier: spätere Auswertung von Typ-Hints).\n",
    "# from __future__ import annotations\n",
    "\n",
    "# Komfortable Objekt-API für Dateipfade.\n",
    "# from pathlib import Path\n",
    "\n",
    "# Typ-Hints\n",
    "# from typing import Optional, Dict\n",
    "\n",
    "# Memoisation-Decorator.\n",
    "# from functools import lru_cache\n"
   ],
   "id": "cca298ef02d4f61a"
  },
  {
   "metadata": {
    "collapsed": true,
    "ExecuteTime": {
     "end_time": "2025-06-28T06:18:48.744847Z",
     "start_time": "2025-06-28T06:18:48.176382Z"
    }
   },
   "cell_type": "code",
   "outputs": [
    {
     "name": "stdout",
     "output_type": "stream",
     "text": [
      "Requirement already satisfied: SPARQLWrapper in /Users/user-y/.venv3.13.3/lib/python3.13/site-packages (2.0.0)\r\n",
      "Requirement already satisfied: rdflib>=6.1.1 in /Users/user-y/.venv3.13.3/lib/python3.13/site-packages (from SPARQLWrapper) (7.1.4)\r\n",
      "Requirement already satisfied: pyparsing<4,>=2.1.0 in /Users/user-y/.venv3.13.3/lib/python3.13/site-packages (from rdflib>=6.1.1->SPARQLWrapper) (3.2.3)\r\n"
     ]
    }
   ],
   "execution_count": 20,
   "source": [
    "# Bibliotheken, die zusätzlich installiert werden müssen\n",
    "\n",
    "# Datenaufbereitung\n",
    "# pandas\n",
    "\n",
    "# HTTP API Aufruf\n",
    "# requests\n",
    "\n",
    "# HTTP API JSON Antwort decodieren\n",
    "# orjson\n",
    "\n",
    "# Abfragen, baut URL-Encoding & HTTP-Handling ab\n",
    "# SPARQLWrapper\n"
   ],
   "id": "initial_id"
  },
  {
   "metadata": {
    "ExecuteTime": {
     "end_time": "2025-06-28T06:16:37.362218Z",
     "start_time": "2025-06-28T06:16:37.306984Z"
    }
   },
   "cell_type": "code",
   "source": "!pip instann pandas requests orjson SPARQLWrapper",
   "id": "500b9dd4eb4664bb",
   "outputs": [],
   "execution_count": 11
  }
 ],
 "metadata": {
  "kernelspec": {
   "display_name": "Python 3",
   "language": "python",
   "name": "python3"
  },
  "language_info": {
   "codemirror_mode": {
    "name": "ipython",
    "version": 2
   },
   "file_extension": ".py",
   "mimetype": "text/x-python",
   "name": "python",
   "nbconvert_exporter": "python",
   "pygments_lexer": "ipython2",
   "version": "2.7.6"
  }
 },
 "nbformat": 4,
 "nbformat_minor": 5
}
