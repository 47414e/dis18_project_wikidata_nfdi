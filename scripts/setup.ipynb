{
 "cells": [
  {
   "metadata": {},
   "cell_type": "code",
   "outputs": [],
   "execution_count": null,
   "source": [
    "# Standard libraries that do not need to be installed\n",
    "\n",
    "# Convenient parsing of command-line arguments.\n",
    "# argparse\n",
    "\n",
    "# Simple read/write routines for CSV files.\n",
    "# csv\n",
    "\n",
    "# Flexible, thread-safe logging framework.\n",
    "# logging\n",
    "\n",
    "# Low-level access to time functions.\n",
    "# time\n",
    "\n",
    "# Basic HTTP and URL utilities without external dependencies.\n",
    "# urllib\n",
    "\n",
    "# Operating system interface.\n",
    "# os\n",
    "\n",
    "# Enables future features (here: postponed evaluation of type hints).\n",
    "# from __future__ import annotations\n",
    "\n",
    "# Convenient object-oriented API for file paths.\n",
    "# from pathlib import Path\n",
    "\n",
    "# Type hints.\n",
    "# from typing import Optional, Dict\n",
    "\n",
    "# Memoization decorator.\n",
    "# from functools import lru_cache\n"
   ],
   "id": "68f7ae28825212a"
  },
  {
   "metadata": {},
   "cell_type": "code",
   "outputs": [],
   "execution_count": null,
   "source": [
    "# Libraries that need to be installed additionally\n",
    "\n",
    "# Data processing\n",
    "# pandas\n",
    "\n",
    "# HTTP API calls\n",
    "# requests\n",
    "\n",
    "# Decode HTTP API JSON responses\n",
    "# orjson\n",
    "\n",
    "# Queries, handles URL encoding & HTTP requests\n",
    "# SPARQLWrapper\n"
   ],
   "id": "965054295debcd61"
  },
  {
   "metadata": {},
   "cell_type": "code",
   "outputs": [],
   "execution_count": null,
   "source": "!pip install pandas requests orjson SPARQLWrapper",
   "id": "321a42dbe335309c"
  }
 ],
 "metadata": {
  "kernelspec": {
   "display_name": "Python 3",
   "language": "python",
   "name": "python3"
  },
  "language_info": {
   "codemirror_mode": {
    "name": "ipython",
    "version": 2
   },
   "file_extension": ".py",
   "mimetype": "text/x-python",
   "name": "python",
   "nbconvert_exporter": "python",
   "pygments_lexer": "ipython2",
   "version": "2.7.6"
  }
 },
 "nbformat": 4,
 "nbformat_minor": 5
}
