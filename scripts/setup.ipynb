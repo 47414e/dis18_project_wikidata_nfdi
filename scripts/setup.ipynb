{
 "cells": [
  {
   "cell_type": "code",
   "execution_count": null,
   "id": "cca298ef02d4f61a",
   "metadata": {},
   "outputs": [],
   "source": [
    "# Standard libraries that do not need to be installed\n",
    "\n",
    "# Convenient parsing of command-line arguments.\n",
    "# argparse\n",
    "\n",
    "# Simple read/write routines for CSV files.\n",
    "# csv\n",
    "\n",
    "# Flexible, thread-safe logging framework.\n",
    "# logging\n",
    "\n",
    "# Low-level access to time functions.\n",
    "# time\n",
    "\n",
    "# Basic HTTP and URL utilities without external dependencies.\n",
    "# urllib\n",
    "\n",
    "# Operating system interface.\n",
    "# os\n",
    "\n",
    "# Enables future features (here: postponed evaluation of type hints).\n",
    "# from __future__ import annotations\n",
    "\n",
    "# Convenient object-oriented API for file paths.\n",
    "# from pathlib import Path\n",
    "\n",
    "# Type hints.\n",
    "# from typing import Optional, Dict\n",
    "\n",
    "# Memoization decorator.\n",
    "# from functools import lru_cache\n"
   ]
  },
  {
   "cell_type": "code",
   "execution_count": null,
   "id": "initial_id",
   "metadata": {
    "ExecuteTime": {
     "end_time": "2025-06-28T06:18:48.744847Z",
     "start_time": "2025-06-28T06:18:48.176382Z"
    },
    "collapsed": true
   },
   "outputs": [
    {
     "name": "stdout",
     "output_type": "stream",
     "text": [
      "Requirement already satisfied: SPARQLWrapper in /Users/user-y/.venv3.13.3/lib/python3.13/site-packages (2.0.0)\r\n",
      "Requirement already satisfied: rdflib>=6.1.1 in /Users/user-y/.venv3.13.3/lib/python3.13/site-packages (from SPARQLWrapper) (7.1.4)\r\n",
      "Requirement already satisfied: pyparsing<4,>=2.1.0 in /Users/user-y/.venv3.13.3/lib/python3.13/site-packages (from rdflib>=6.1.1->SPARQLWrapper) (3.2.3)\r\n"
     ]
    }
   ],
   "source": [
    "# Libraries that need to be installed additionally\n",
    "\n",
    "# Data processing\n",
    "# pandas\n",
    "\n",
    "# HTTP API calls\n",
    "# requests\n",
    "\n",
    "# Decode HTTP API JSON responses\n",
    "# orjson\n",
    "\n",
    "# Queries, handles URL encoding & HTTP requests\n",
    "# SPARQLWrapper\n"
   ]
  },
  {
   "cell_type": "code",
   "execution_count": 11,
   "id": "500b9dd4eb4664bb",
   "metadata": {
    "ExecuteTime": {
     "end_time": "2025-06-28T06:16:37.362218Z",
     "start_time": "2025-06-28T06:16:37.306984Z"
    }
   },
   "outputs": [],
   "source": [
    "!pip instann pandas requests orjson SPARQLWrapper"
   ]
  }
 ],
 "metadata": {
  "kernelspec": {
   "display_name": "Python 3",
   "language": "python",
   "name": "python3"
  },
  "language_info": {
   "codemirror_mode": {
    "name": "ipython",
    "version": 2
   },
   "file_extension": ".py",
   "mimetype": "text/x-python",
   "name": "python",
   "nbconvert_exporter": "python",
   "pygments_lexer": "ipython2",
   "version": "2.7.6"
  }
 },
 "nbformat": 4,
 "nbformat_minor": 5
}
